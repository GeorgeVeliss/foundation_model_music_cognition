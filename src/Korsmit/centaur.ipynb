{
 "cells": [
  {
   "cell_type": "code",
   "execution_count": 42,
   "id": "2783c311",
   "metadata": {},
   "outputs": [],
   "source": [
    "# NOTE: change this to the path in your setup\n",
    "korsmit_exp1_path = \"../../data/Korsmit/Exp1/\""
   ]
  },
  {
   "cell_type": "code",
   "execution_count": 24,
   "id": "35dfdc7e",
   "metadata": {},
   "outputs": [],
   "source": [
    "import os\n",
    "import pandas as pd\n",
    "import numpy as np"
   ]
  },
  {
   "cell_type": "code",
   "execution_count": 64,
   "id": "4b8eb8e5",
   "metadata": {},
   "outputs": [],
   "source": [
    "preds_path = \"centaur_responses_pos_rel_awa_170725.csv\"\n",
    "\n",
    "df = pd.read_csv(preds_path)\n",
    "\n",
    "positive_preds = df[\"positive\"].to_numpy()\n",
    "relaxed_preds = df[\"relaxed\"].to_numpy()\n",
    "awake_preds = df[\"awake\"].to_numpy()\n",
    "\n",
    "all_preds = np.stack([positive_preds, relaxed_preds, awake_preds], axis=1)"
   ]
  },
  {
   "cell_type": "code",
   "execution_count": 51,
   "id": "4a7e338b",
   "metadata": {},
   "outputs": [],
   "source": [
    "IDim_path = korsmit_exp1_path+\"Data/IDim/\"\n",
    "IDim_responses = []\n",
    "\n",
    "all_dfs = []\n",
    "\n",
    "for file in os.listdir(IDim_path):\n",
    "    if file.endswith(\".csv\"):\n",
    "        df = pd.read_csv(os.path.join(IDim_path, file))\n",
    "        df.columns = df.columns.str.strip()\n",
    "        required_columns = ['positive', 'relaxed', 'awake']\n",
    "        if all(col in df.columns for col in required_columns):\n",
    "            all_dfs.append(df[required_columns])\n",
    "\n",
    "# Stack and compute mean along the third axis\n",
    "stacked = np.stack(\n",
    "    [df.values for df in all_dfs], axis=2\n",
    ")  # shape: (rows, cols, num_dfs)\n",
    "IDim_mean_reponses = np.mean(stacked, axis=2)  # shape: (rows, cols)"
   ]
  },
  {
   "cell_type": "code",
   "execution_count": 72,
   "id": "c9cbf38a",
   "metadata": {},
   "outputs": [
    {
     "name": "stdout",
     "output_type": "stream",
     "text": [
      "Mean Absolute Error (MAE) between all_preds and human_ratings: 1.9235\n",
      "\n",
      "Mean Absolute Percentage Error (MAPE): 42.39%\n",
      "\n",
      "Root Mean Squared Error (RMSE): 2.3560\n",
      "\n",
      "Pearson Correlation Coefficients (between all_preds and human_ratings):\n",
      "  Positive Dimension: 0.0472\n",
      "  Relaxed Dimension:  -0.0066\n",
      "  Awake Dimension:    0.0352\n",
      "  Average Correlation: 0.0253\n",
      "\n",
      "R-squared scores:\n",
      "  valence = -3.5813092321065625\n",
      "  tension = -3.4057039405999605\n",
      "  energy = -10.366481227825673\n",
      "\n",
      "Overall R-squared_score = -5.784498133510733\n"
     ]
    }
   ],
   "source": [
    "from scipy.stats import pearsonr # For Pearson correlation\n",
    "\n",
    "# Comparison Method 1: Mean Absolute Error (MAE)\n",
    "# MAE measures the average magnitude of the errors in a set of predictions, without considering their direction.\n",
    "mae = np.mean(np.abs(all_preds - IDim_mean_reponses))\n",
    "print(f\"Mean Absolute Error (MAE) between all_preds and human_ratings: {mae:.4f}\\n\")\n",
    "\n",
    "# Comparison Method 2: Mean Absolute Percentage Error (MAPE)\n",
    "# MAPE measures the accuracy of a forecasting method in terms of percentage.\n",
    "# Formula: MAPE = (1/n) * sum(|(Actual - Forecast) / Actual|) * 100%\n",
    "\n",
    "# Calculate the absolute percentage error for each element\n",
    "# Since human responses are between 1 and 9, division by zero is not a concern.\n",
    "absolute_percentage_error = np.abs((IDim_mean_reponses - all_preds) / IDim_mean_reponses) * 100\n",
    "\n",
    "# Calculate the mean of these percentage errors\n",
    "mape = np.mean(absolute_percentage_error)\n",
    "\n",
    "print(f\"Mean Absolute Percentage Error (MAPE): {mape:.2f}%\\n\")\n",
    "\n",
    "# Comparison Method 3: Root Mean Squared Error (RMSE)\n",
    "# RMSE measures the square root of the average of the squared differences between predicted and actual values.\n",
    "# It gives a relatively high weight to large errors.\n",
    "# Formula: RMSE = sqrt(mean((Actual - Forecast)^2))\n",
    "\n",
    "# Calculate the squared differences\n",
    "squared_differences = (IDim_mean_reponses - all_preds)**2\n",
    "\n",
    "# Calculate the mean of the squared differences (Mean Squared Error - MSE)\n",
    "mse = np.mean(squared_differences)\n",
    "\n",
    "# Calculate the square root to get RMSE\n",
    "rmse = np.sqrt(mse)\n",
    "\n",
    "print(f\"Root Mean Squared Error (RMSE): {rmse:.4f}\\n\")\n",
    "\n",
    "# Comparison Method 4: Pearson Correlation Coefficient (per column)\n",
    "# Pearson correlation measures the linear relationship between two sets of data.\n",
    "# We'll calculate it for each of the three columns (dimensions).\n",
    "\n",
    "correlation_positive = pearsonr(all_preds[:, 0], IDim_mean_reponses[:, 0])[0]\n",
    "correlation_relaxed = pearsonr(all_preds[:, 1], IDim_mean_reponses[:, 1])[0]\n",
    "correlation_awake = pearsonr(all_preds[:, 2], IDim_mean_reponses[:, 2])[0]\n",
    "\n",
    "assert isinstance(correlation_positive, np.float64)\n",
    "assert isinstance(correlation_relaxed, np.float64)\n",
    "assert isinstance(correlation_awake, np.float64)\n",
    "\n",
    "print(\"Pearson Correlation Coefficients (between all_preds and human_ratings):\")\n",
    "print(f\"  Positive Dimension: {correlation_positive:.4f}\")\n",
    "print(f\"  Relaxed Dimension:  {correlation_relaxed:.4f}\")\n",
    "print(f\"  Awake Dimension:    {correlation_awake:.4f}\")\n",
    "\n",
    "average_correlation = (correlation_positive + correlation_relaxed + correlation_awake) / 3\n",
    "print(f\"  Average Correlation: {average_correlation:.4f}\")\n",
    "\n",
    "from sklearn.metrics import r2_score\n",
    "\n",
    "# R-squared\n",
    "print(\"\\nR-squared scores:\")\n",
    "r2_valence = r2_score(IDim_mean_reponses[:, 0], all_preds[:, 0])\n",
    "print(\"  valence =\", r2_valence)\n",
    "\n",
    "r2_tension = r2_score(IDim_mean_reponses[:, 1], all_preds[:, 1])\n",
    "print(\"  tension =\", r2_tension)\n",
    "\n",
    "r2_energy = r2_score(IDim_mean_reponses[:, 2], all_preds[:, 2])\n",
    "print(\"  energy =\", r2_energy)\n",
    "\n",
    "r2_overall = r2_score(IDim_mean_reponses, all_preds)\n",
    "print(\"\\nOverall R-squared_score =\", r2_overall)\n"
   ]
  }
 ],
 "metadata": {
  "kernelspec": {
   "display_name": ".venv",
   "language": "python",
   "name": "python3"
  },
  "language_info": {
   "codemirror_mode": {
    "name": "ipython",
    "version": 3
   },
   "file_extension": ".py",
   "mimetype": "text/x-python",
   "name": "python",
   "nbconvert_exporter": "python",
   "pygments_lexer": "ipython3",
   "version": "3.12.10"
  }
 },
 "nbformat": 4,
 "nbformat_minor": 5
}
