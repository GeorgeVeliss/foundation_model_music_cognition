{
  "cells": [
    {
      "cell_type": "code",
      "execution_count": 32,
      "id": "f635ffef",
      "metadata": {
        "id": "f635ffef"
      },
      "outputs": [],
      "source": [
        "from transformers import ClapModel, AutoProcessor\n",
        "import torch\n",
        "import librosa\n",
        "import os\n",
        "import pandas as pd\n",
        "import numpy as np\n",
        "\n",
        "from sklearn.model_selection import RepeatedKFold\n",
        "from sklearn.ensemble import RandomForestRegressor\n",
        "from sklearn.preprocessing import StandardScaler\n",
        "from sklearn.metrics import mean_absolute_error, mean_squared_error, r2_score\n",
        "\n",
        "from scipy.stats import pearsonr"
      ]
    },
    {
      "cell_type": "code",
      "execution_count": 33,
      "id": "6586ecc3",
      "metadata": {
        "id": "6586ecc3"
      },
      "outputs": [],
      "source": [
        "# Load CLAP model + processor\n",
        "model = ClapModel.from_pretrained(\"laion/larger_clap_music\")\n",
        "processor = AutoProcessor.from_pretrained(\"laion/larger_clap_music\")"
      ]
    },
    {
      "cell_type": "markdown",
      "id": "16df0e32",
      "metadata": {
        "id": "16df0e32"
      },
      "source": [
        "# Process audio"
      ]
    },
    {
      "cell_type": "code",
      "source": [
        "import zipfile\n",
        "import os\n",
        "\n",
        "zip_files = [\"Exp1.zip\", \"Exp2.zip\", \"Analysis.zip\"]\n",
        "\n",
        "extract_dir = \"/content/\" # You can change this if you want to extract elsewhere\n",
        "os.makedirs(extract_dir, exist_ok=True)\n",
        "\n",
        "for zip_file in zip_files:\n",
        "    if os.path.exists(zip_file):\n",
        "        with zipfile.ZipFile(zip_file, 'r') as zip_ref:\n",
        "            zip_ref.extractall(extract_dir)\n",
        "        print(f\"Extracted {zip_file} to {extract_dir}\")\n",
        "    else:\n",
        "        print(f\"Error: {zip_file} not found.\")"
      ],
      "metadata": {
        "colab": {
          "base_uri": "https://localhost:8080/"
        },
        "id": "_9JG8JBIWrG5",
        "outputId": "4b94a3d1-61f9-4ed1-9806-a83032dfdf80"
      },
      "id": "_9JG8JBIWrG5",
      "execution_count": 34,
      "outputs": [
        {
          "output_type": "stream",
          "name": "stdout",
          "text": [
            "Extracted Exp1.zip to /content/\n",
            "Extracted Exp2.zip to /content/\n",
            "Extracted Analysis.zip to /content/\n"
          ]
        }
      ]
    },
    {
      "cell_type": "code",
      "execution_count": 35,
      "id": "e2b960e1",
      "metadata": {
        "id": "e2b960e1"
      },
      "outputs": [],
      "source": [
        "audio_stimuli = []\n",
        "stimuli_path = \"/content/Exp1/Stimuli/\"\n",
        "\n",
        "for file in sorted(os.listdir(stimuli_path)):\n",
        "    if file.endswith(\".wav\"):\n",
        "        wav_path = os.path.join(stimuli_path, file)\n",
        "        #Clap has already been trained on a sample rate of 48,000 so we should use what it knows already\n",
        "        audio, sample_rate = librosa.load(wav_path, sr=48000)\n",
        "        audio_stimuli.append(audio)"
      ]
    },
    {
      "cell_type": "code",
      "execution_count": 36,
      "id": "dabe6285",
      "metadata": {
        "id": "dabe6285"
      },
      "outputs": [],
      "source": [
        "inputs = processor(audios=audio_stimuli, return_tensors=\"pt\", padding=True, sampling_rate=48000)\n",
        "audio_embeddings = model.get_audio_features(**inputs)"
      ]
    },
    {
      "cell_type": "markdown",
      "id": "eea1aa71",
      "metadata": {
        "id": "eea1aa71"
      },
      "source": [
        "# Process text"
      ]
    },
    {
      "cell_type": "code",
      "execution_count": 6,
      "id": "37f16d7c",
      "metadata": {
        "colab": {
          "base_uri": "https://localhost:8080/"
        },
        "id": "37f16d7c",
        "outputId": "aa9a4aff-afdc-453b-820e-c52db1dd66f9"
      },
      "outputs": [
        {
          "output_type": "stream",
          "name": "stdout",
          "text": [
            "['I perceive this sound as happiness', 'I perceive this sound as sadness', 'I perceive this sound as anger', 'I perceive this sound as tenderness', 'I perceive this sound as fear']\n",
            "['This sound makes me feel happiness', 'This sound makes me feel sadness', 'This sound makes me feel anger', 'This sound makes me feel tenderness', 'This sound makes me feel fear']\n",
            "['I perceive this sound as positive', 'I perceive this sound as relaxed', 'I perceive this sound as awake']\n",
            "['This sound makes me feel positive', 'This sound makes me feel relaxed', 'This sound makes me feel awake']\n"
          ]
        }
      ],
      "source": [
        "discrete_tags = [\"happiness\", \"sadness\", \"anger\", \"tenderness\", \"fear\"]\n",
        "\n",
        "discrete_captions_perceived = [\"I perceive this sound as \" + tag for tag in discrete_tags]\n",
        "print(discrete_captions_perceived)\n",
        "discrete_captions_induced = [\"This sound makes me feel \" + tag for tag in discrete_tags]\n",
        "print(discrete_captions_induced)\n",
        "\n",
        "dimensional_tags = [\"positive\", \"relaxed\", \"awake\"]\n",
        "\n",
        "dimensional_captions_perceived = [\"I perceive this sound as \" + tag for tag in dimensional_tags]\n",
        "print(dimensional_captions_perceived)\n",
        "dimensional_captions_induced = [\"This sound makes me feel \" + tag for tag in dimensional_tags]\n",
        "print(dimensional_captions_induced)\n"
      ]
    },
    {
      "cell_type": "code",
      "execution_count": 7,
      "id": "032319cf",
      "metadata": {
        "id": "032319cf"
      },
      "outputs": [],
      "source": [
        "all_tags = discrete_captions_perceived + discrete_captions_induced + dimensional_captions_perceived + dimensional_captions_induced\n",
        "\n",
        "# NOTE: currently using only dimensional_captions_induced\n",
        "tag_inputs = processor(text=dimensional_captions_induced, return_tensors=\"pt\", padding=True)\n",
        "tag_embeds = model.get_text_features(**tag_inputs)"
      ]
    },
    {
      "cell_type": "markdown",
      "id": "562a66c1",
      "metadata": {
        "id": "562a66c1"
      },
      "source": [
        "## Load csv files and extract related columns"
      ]
    },
    {
      "cell_type": "code",
      "execution_count": 21,
      "id": "8682ef31",
      "metadata": {
        "colab": {
          "base_uri": "https://localhost:8080/"
        },
        "id": "8682ef31",
        "outputId": "f2f59f48-1820-470e-b766-45bea0caaa33",
        "collapsed": true
      },
      "outputs": [
        {
          "output_type": "stream",
          "name": "stdout",
          "text": [
            "Master human responses DataFrame shape: (3835, 3)\n",
            "\n",
            "Master human responses (first 5 rows):\n",
            "   positive  relaxed  awake\n",
            "0      3.68     3.78   4.42\n",
            "1      5.88     5.98   3.89\n",
            "2      6.53     5.59   6.59\n",
            "3      6.26     5.71   6.88\n",
            "4      2.80     2.62   5.15\n",
            "\n"
          ]
        }
      ],
      "source": [
        "IDim_path = '/content/Exp1/Data/IDim/'\n",
        "IDim_response_dfs = []\n",
        "\n",
        "for file in sorted(os.listdir(IDim_path)):\n",
        "    if file.endswith(\".csv\"):\n",
        "        file_path = os.path.join(IDim_path, file)\n",
        "        try:\n",
        "            df = pd.read_csv(file_path, sep=r'\\s*,\\s*', engine='python')\n",
        "            # Crucial: Strip whitespace from column names\n",
        "            df.columns = df.columns.str.strip()\n",
        "\n",
        "            # Ensure required rating columns exist\n",
        "            required_cols = ['positive', 'relaxed', 'awake']\n",
        "            if all(col in df.columns for col in required_cols):\n",
        "                # Select only the relevant columns and append to our list\n",
        "                IDim_response_dfs.append(df[required_cols])\n",
        "            else:\n",
        "                print(f\"Skipping file '{file_path}': Missing required columns ({required_cols}). Found columns: {df.columns.tolist()}\")\n",
        "\n",
        "        except Exception as e:\n",
        "            print(f\"Error reading or processing file {file_path}: {e}\")\n",
        "\n",
        "\n",
        "# Concatenate all individual DataFrames into one master DataFrame for human responses\n",
        "if IDim_response_dfs:\n",
        "    master_human_responses_df = pd.concat(IDim_response_dfs, ignore_index=True)\n",
        "    print(f\"Master human responses DataFrame shape: {master_human_responses_df.shape}\\n\")\n",
        "    print(f\"Master human responses (first 5 rows):\\n{master_human_responses_df.head()}\\n\")\n",
        "else:\n",
        "    raise ValueError(\"No valid CSV files found or processed in IDim_path.\")"
      ]
    },
    {
      "cell_type": "markdown",
      "source": [
        "# Prepare features X and targets y"
      ],
      "metadata": {
        "id": "TnXu9CQUpQLE"
      },
      "id": "TnXu9CQUpQLE"
    },
    {
      "cell_type": "code",
      "source": [
        "# Step 1: Load timbre data\n",
        "timbre_path = \"/content/Analysis/Thesis_Ch5/TimbreToolbox/long_AT1_TimbreToolbox_220509.csv\"\n",
        "df = pd.read_csv(timbre_path)\n",
        "df.columns = df.columns.str.strip()\n",
        "\n",
        "# Step 2: Extract first 59 unique audio files\n",
        "unique_stims = df['stim'].drop_duplicates().iloc[1:60]\n",
        "audio_df = df[df['stim'].isin(unique_stims)].copy()\n",
        "\n",
        "# =Step 3: Group by audio ('stim') and average participant ratings\n",
        "response_cols = ['positive', 'relaxed', 'awake']\n",
        "available_responses = [col for col in response_cols if col in audio_df.columns]\n",
        "if not available_responses:\n",
        "    raise ValueError(\"❌ No 'positive', 'relaxed', or 'awake' columns found in data.\")\n",
        "\n",
        "response_avg = audio_df.groupby('stim')[available_responses].mean()\n",
        "\n",
        "# Step 4: Extract features starting from 'IQR_Pitch' onwards\n",
        "start_col = audio_df.columns.get_loc('IQR_Pitch')\n",
        "feature_cols = audio_df.columns[start_col:]\n",
        "\n",
        "# Group by stim and average those numerical features\n",
        "features_avg = audio_df.groupby('stim')[feature_cols].mean()\n",
        "\n",
        "# Step 5: Align features and labels\n",
        "X = features_avg\n",
        "Y = response_avg\n",
        "\n",
        "# Standardize features\n",
        "scaler = StandardScaler()\n",
        "X = X.dropna()  # Drop any rows with NaNs\n",
        "Y = Y.loc[X.index]  # Align Y with cleaned X\n",
        "X_scaled = scaler.fit_transform(X)"
      ],
      "metadata": {
        "id": "2eqj0N2bklgI"
      },
      "id": "2eqj0N2bklgI",
      "execution_count": 25,
      "outputs": []
    },
    {
      "cell_type": "markdown",
      "id": "874063de",
      "metadata": {
        "id": "874063de"
      },
      "source": [
        "# Random Forest Regressor Training"
      ]
    },
    {
      "cell_type": "code",
      "source": [
        "rf_models = {}\n",
        "rf_predictions = {}\n",
        "\n",
        "# Cross-validation\n",
        "rkf = RepeatedKFold(n_splits=5, n_repeats=3, random_state=42)\n",
        "\n",
        "for col in Y.columns:\n",
        "    y = Y[col].values\n",
        "\n",
        "    all_y_true, all_y_pred, all_models = [], [], []\n",
        "\n",
        "    for train_idx, test_idx in rkf.split(X_scaled):\n",
        "        X_train, X_test = X_scaled[train_idx], X_scaled[test_idx]\n",
        "        y_train, y_test = y[train_idx], y[test_idx]\n",
        "\n",
        "        model = RandomForestRegressor(n_estimators=100, random_state=42)\n",
        "        model.fit(X_train, y_train)\n",
        "        y_pred = model.predict(X_test)\n",
        "\n",
        "        all_y_true.extend(y_test)\n",
        "        all_y_pred.extend(y_pred)\n",
        "        all_models.append(model)\n",
        "\n",
        "    rf_models[col] = model\n",
        "    rf_predictions[col] = {\n",
        "        'y_true': np.array(all_y_true),\n",
        "        'y_pred': np.array(all_y_pred),\n",
        "        'models': all_models\n",
        "    }\n",
        "\n",
        "    print(f\"✅ Random Forest model trained for: {col}\")\n"
      ],
      "metadata": {
        "colab": {
          "base_uri": "https://localhost:8080/"
        },
        "id": "DN1Fl361lZg-",
        "outputId": "be831a19-cfc4-47ee-83a0-19fe6d037290"
      },
      "id": "DN1Fl361lZg-",
      "execution_count": 26,
      "outputs": [
        {
          "output_type": "stream",
          "name": "stdout",
          "text": [
            "✅ Random Forest model trained for: positive\n",
            "✅ Random Forest model trained for: relaxed\n",
            "✅ Random Forest model trained for: awake\n"
          ]
        }
      ]
    },
    {
      "cell_type": "markdown",
      "source": [
        "# Evaluate"
      ],
      "metadata": {
        "id": "fpJVqiICqiS0"
      },
      "id": "fpJVqiICqiS0"
    },
    {
      "cell_type": "code",
      "source": [
        "print(\"📊 Random Forest Regression Statistics\\n\" + \"-\" * 50)\n",
        "\n",
        "r2s = []\n",
        "\n",
        "for col, data in rf_predictions.items():\n",
        "    y_true = data['y_true']\n",
        "    y_pred = data['y_pred']\n",
        "    model = rf_models[col]\n",
        "\n",
        "    r2 = r2_score(y_true, y_pred)\n",
        "    r2s.append(r2)\n",
        "\n",
        "    print(f\"\\n📈 Dimension: {col}\")\n",
        "    print(\"→ R² Score:\", round(r2, 4))"
      ],
      "metadata": {
        "colab": {
          "base_uri": "https://localhost:8080/"
        },
        "id": "qWXrvFHnleTS",
        "outputId": "b9583b12-a10d-4d69-b086-a17a605dd218"
      },
      "id": "qWXrvFHnleTS",
      "execution_count": 37,
      "outputs": [
        {
          "output_type": "stream",
          "name": "stdout",
          "text": [
            "📊 Random Forest Regression Statistics\n",
            "--------------------------------------------------\n",
            "\n",
            "📈 Dimension: positive\n",
            "→ R² Score: 0.8416\n",
            "\n",
            "📈 Dimension: relaxed\n",
            "→ R² Score: 0.7477\n",
            "\n",
            "📈 Dimension: awake\n",
            "→ R² Score: 0.7095\n"
          ]
        }
      ]
    }
  ],
  "metadata": {
    "kernelspec": {
      "display_name": "Python 3",
      "name": "python3"
    },
    "language_info": {
      "codemirror_mode": {
        "name": "ipython",
        "version": 3
      },
      "file_extension": ".py",
      "mimetype": "text/x-python",
      "name": "python",
      "nbconvert_exporter": "python",
      "pygments_lexer": "ipython3",
      "version": "3.10.17"
    },
    "colab": {
      "provenance": [],
      "machine_shape": "hm"
    }
  },
  "nbformat": 4,
  "nbformat_minor": 5
}