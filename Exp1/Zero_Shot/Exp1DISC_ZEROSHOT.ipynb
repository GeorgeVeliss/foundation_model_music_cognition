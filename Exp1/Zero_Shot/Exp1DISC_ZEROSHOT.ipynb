{
  "cells": [
    {
      "cell_type": "code",
      "execution_count": 31,
      "id": "f635ffef",
      "metadata": {
        "id": "f635ffef"
      },
      "outputs": [],
      "source": [
        "from transformers import ClapModel, AutoProcessor\n",
        "import torch\n",
        "import librosa\n",
        "import os\n",
        "import pandas as pd\n",
        "import numpy as np\n",
        "from scipy.stats import pearsonr # For Pearson correlation\n",
        "from sklearn.metrics import r2_score # For R-squared scores"
      ]
    },
    {
      "cell_type": "code",
      "source": [
        "CLAPmodel = \"laion/larger_clap_general\"\n",
        "#CLAPmodel = \"laion/larger_clap_music_and_speech\"\n",
        "#CLAPmodel = \"laion/larger_clap_music\"\n",
        "#CLAPmodel = \"laion/clap-htsat-fused\"\n",
        "#CLAPmodel = \"laion/clap-htsat-unfused\""
      ],
      "metadata": {
        "id": "xZ5tY_mKbd8x"
      },
      "execution_count": 32,
      "outputs": [],
      "id": "xZ5tY_mKbd8x"
    },
    {
      "cell_type": "code",
      "execution_count": 33,
      "metadata": {
        "id": "6586ecc3"
      },
      "outputs": [],
      "source": [
        "# Load CLAP model + processor\n",
        "model = ClapModel.from_pretrained(CLAPmodel)\n",
        "processor = AutoProcessor.from_pretrained(CLAPmodel)"
      ],
      "id": "6586ecc3"
    },
    {
      "cell_type": "code",
      "execution_count": 34,
      "id": "e87de958",
      "metadata": {
        "colab": {
          "base_uri": "https://localhost:8080/"
        },
        "id": "e87de958",
        "outputId": "7456f530-e8b2-45a6-8535-e3ca46cc538d"
      },
      "outputs": [
        {
          "output_type": "stream",
          "name": "stdout",
          "text": [
            "total number of CLAP's parameters: 193913882\n"
          ]
        }
      ],
      "source": [
        "print('total number of CLAP\\'s parameters:', sum(p.numel() for p in model.parameters()))"
      ]
    },
    {
      "cell_type": "code",
      "execution_count": 35,
      "id": "a16bd87d",
      "metadata": {
        "colab": {
          "base_uri": "https://localhost:8080/"
        },
        "id": "a16bd87d",
        "outputId": "577b92ee-fc49-4521-e56d-705c1ecaa3ad"
      },
      "outputs": [
        {
          "output_type": "stream",
          "name": "stdout",
          "text": [
            "CLAP model size: 740.294MB\n"
          ]
        }
      ],
      "source": [
        "param_size = 0\n",
        "for param in model.parameters():\n",
        "    param_size += param.nelement() * param.element_size()\n",
        "buffer_size = 0\n",
        "for buffer in model.buffers():\n",
        "    buffer_size += buffer.nelement() * buffer.element_size()\n",
        "\n",
        "size_all_mb = (param_size + buffer_size) / 1024**2\n",
        "print('CLAP model size: {:.3f}MB'.format(size_all_mb))"
      ]
    },
    {
      "cell_type": "code",
      "source": [
        "#This section is to convert the uploaded zip files into folders\n",
        "import zipfile\n",
        "\n",
        "# Define the paths to your zip files\n",
        "zip_files = [\"Exp1.zip\", \"Exp2.zip\", \"Analysis.zip\"]\n",
        "\n",
        "# Define the directory where you want to extract the files\n",
        "extract_dir = \"/content/\" # You can change this if you want to extract elsewhere\n",
        "\n",
        "# Create the extraction directory if it doesn't exist\n",
        "os.makedirs(extract_dir, exist_ok=True)\n",
        "\n",
        "# Extract each zip file\n",
        "for zip_file in zip_files:\n",
        "    if os.path.exists(zip_file):\n",
        "        with zipfile.ZipFile(zip_file, 'r') as zip_ref:\n",
        "            zip_ref.extractall(extract_dir)\n",
        "        print(f\"Extracted {zip_file} to {extract_dir}\")\n",
        "    else:\n",
        "        print(f\"Erro r: {zip_file} not found.\")"
      ],
      "metadata": {
        "colab": {
          "base_uri": "https://localhost:8080/"
        },
        "id": "f-qGgmLvYKnx",
        "outputId": "c4549dde-9def-4fbc-c88b-b05c55953274"
      },
      "id": "f-qGgmLvYKnx",
      "execution_count": 36,
      "outputs": [
        {
          "output_type": "stream",
          "name": "stdout",
          "text": [
            "Extracted Exp1.zip to /content/\n",
            "Extracted Exp2.zip to /content/\n",
            "Extracted Analysis.zip to /content/\n"
          ]
        }
      ]
    },
    {
      "cell_type": "markdown",
      "id": "16df0e32",
      "metadata": {
        "id": "16df0e32"
      },
      "source": [
        "# Process audio"
      ]
    },
    {
      "cell_type": "code",
      "execution_count": 37,
      "id": "e2b960e1",
      "metadata": {
        "id": "e2b960e1"
      },
      "outputs": [],
      "source": [
        "audio_stimuli = []\n",
        "stimuli_path = \"/content/Exp1/Stimuli/\"\n",
        "\n",
        "for file in sorted(os.listdir(stimuli_path)):\n",
        "    if file.endswith(\".wav\"):\n",
        "        wav_path = os.path.join(stimuli_path, file)\n",
        "        audio, sample_rate = librosa.load(wav_path, sr=48000)\n",
        "        audio_stimuli.append(audio)"
      ]
    },
    {
      "cell_type": "code",
      "execution_count": 38,
      "id": "dabe6285",
      "metadata": {
        "id": "dabe6285"
      },
      "outputs": [],
      "source": [
        "inputs = processor(audios=audio_stimuli, return_tensors=\"pt\", padding=True, sampling_rate=48000)\n",
        "audio_embeddings = model.get_audio_features(**inputs)"
      ]
    },
    {
      "cell_type": "code",
      "execution_count": 39,
      "id": "71f03a77",
      "metadata": {
        "colab": {
          "base_uri": "https://localhost:8080/"
        },
        "id": "71f03a77",
        "outputId": "aea64a26-bd21-4a97-be83-f1b7377f29a6"
      },
      "outputs": [
        {
          "output_type": "stream",
          "name": "stdout",
          "text": [
            "torch.Size([59, 512])\n"
          ]
        }
      ],
      "source": [
        "print(audio_embeddings.shape)"
      ]
    },
    {
      "cell_type": "markdown",
      "id": "eea1aa71",
      "metadata": {
        "id": "eea1aa71"
      },
      "source": [
        "# Process text"
      ]
    },
    {
      "cell_type": "code",
      "execution_count": 40,
      "id": "37f16d7c",
      "metadata": {
        "colab": {
          "base_uri": "https://localhost:8080/",
          "height": 157
        },
        "id": "37f16d7c",
        "outputId": "9c298bd4-f0e6-4dfc-b1fe-44b471aef4c6"
      },
      "outputs": [
        {
          "output_type": "stream",
          "name": "stdout",
          "text": [
            "['happiness', 'sadness', 'anger', 'tenderness', 'fear']\n",
            "['happiness', 'sadness', 'anger', 'tenderness', 'fear']\n",
            "['positive', 'relaxed', 'awake', 'like']\n",
            "['positive', 'relaxed', 'awake', 'like']\n"
          ]
        },
        {
          "output_type": "execute_result",
          "data": {
            "text/plain": [
              "'\\ndiscrete_tags = [\"happiness\", \"sadness\", \"anger\", \"tenderness\", \"fear\"]\\n\\ndiscrete_captions_perceived = [\"I perceive this sound as \" + tag for tag in discrete_tags]\\nprint(discrete_captions_perceived)\\ndiscrete_captions_induced = [\"This sound makes me feel \" + tag for tag in discrete_tags]\\nprint(discrete_captions_induced)\\n\\ndimensional_tags = [\"positive\", \"relaxed\", \"awake\"]\\n\\ndimensional_captions_perceived = [\"I perceive this sound as \" + tag for tag in dimensional_tags]\\nprint(dimensional_captions_perceived)\\ndimensional_captions_induced = [\"This sound makes me feel \" + tag for tag in dimensional_tags]\\nprint(dimensional_captions_induced)\\n'"
            ],
            "application/vnd.google.colaboratory.intrinsic+json": {
              "type": "string"
            }
          },
          "metadata": {},
          "execution_count": 40
        }
      ],
      "source": [
        "discrete_tags = [\"happiness\", \"sadness\", \"anger\", \"tenderness\", \"fear\"]\n",
        "\n",
        "discrete_captions_perceived = [tag for tag in discrete_tags]\n",
        "print(discrete_captions_perceived)\n",
        "discrete_captions_induced = [tag for tag in discrete_tags]\n",
        "print(discrete_captions_induced)\n",
        "\n",
        "dimensional_tags = [\"positive\", \"relaxed\", \"awake\", \"like\"]\n",
        "\n",
        "dimensional_captions_perceived = [tag for tag in dimensional_tags]\n",
        "print(dimensional_captions_perceived)\n",
        "dimensional_captions_induced = [tag for tag in dimensional_tags]\n",
        "print(dimensional_captions_induced)\n",
        "\"\"\"\n",
        "discrete_tags = [\"happiness\", \"sadness\", \"anger\", \"tenderness\", \"fear\"]\n",
        "\n",
        "discrete_captions_perceived = [\"I perceive this sound as \" + tag for tag in discrete_tags]\n",
        "print(discrete_captions_perceived)\n",
        "discrete_captions_induced = [\"This sound makes me feel \" + tag for tag in discrete_tags]\n",
        "print(discrete_captions_induced)\n",
        "\n",
        "dimensional_tags = [\"positive\", \"relaxed\", \"awake\"]\n",
        "\n",
        "dimensional_captions_perceived = [\"I perceive this sound as \" + tag for tag in dimensional_tags]\n",
        "print(dimensional_captions_perceived)\n",
        "dimensional_captions_induced = [\"This sound makes me feel \" + tag for tag in dimensional_tags]\n",
        "print(dimensional_captions_induced)\n",
        "\"\"\""
      ]
    },
    {
      "cell_type": "code",
      "execution_count": 41,
      "id": "032319cf",
      "metadata": {
        "id": "032319cf"
      },
      "outputs": [],
      "source": [
        "all_tags = discrete_captions_perceived + discrete_captions_induced + dimensional_captions_perceived + dimensional_captions_induced\n",
        "\n",
        "#For Discrete Induced (IDisc)\n",
        "Itag_inputs = processor(text=discrete_captions_induced, return_tensors=\"pt\", padding=True)\n",
        "Itag_embeds = model.get_text_features(**Itag_inputs)\n",
        "\n",
        "#For Discrete Perceived (PDisc)\n",
        "Ptag_inputs = processor(text=discrete_captions_perceived, return_tensors=\"pt\", padding=True)\n",
        "Ptag_embeds = model.get_text_features(**Ptag_inputs)\n",
        "\n",
        "#For all of Discrete\n",
        "tag_embeds = (Itag_embeds + Ptag_embeds)/2"
      ]
    },
    {
      "cell_type": "markdown",
      "id": "7dd0d14f",
      "metadata": {
        "id": "7dd0d14f"
      },
      "source": [
        "# Generate outputs"
      ]
    },
    {
      "cell_type": "code",
      "execution_count": 42,
      "id": "634fce06",
      "metadata": {
        "colab": {
          "base_uri": "https://localhost:8080/"
        },
        "id": "634fce06",
        "outputId": "8eae8d8a-91e1-4945-e8b8-de7716b5b8c2"
      },
      "outputs": [
        {
          "output_type": "stream",
          "name": "stdout",
          "text": [
            "IDisc\n",
            "torch.Size([59, 5])\n",
            "PDisc\n",
            "torch.Size([59, 5])\n",
            "Disc\n",
            "torch.Size([59, 5])\n"
          ]
        }
      ],
      "source": [
        "#For Discrete Induced (IDisc)\n",
        "print(\"IDisc\")\n",
        "Isims = torch.matmul(audio_embeddings, Itag_embeds.T)\n",
        "print(Isims.shape)\n",
        "\n",
        "#For Discrete Perceived (PDisc)\n",
        "print(\"PDisc\")\n",
        "Psims = torch.matmul(audio_embeddings, Ptag_embeds.T)\n",
        "print(Psims.shape)\n",
        "\n",
        "print(\"Disc\")\n",
        "#For all of Discrete\n",
        "sims = torch.matmul(audio_embeddings, tag_embeds.T)\n",
        "print(sims.shape)"
      ]
    },
    {
      "cell_type": "markdown",
      "id": "562a66c1",
      "metadata": {
        "id": "562a66c1"
      },
      "source": [
        "## Load csv files and extract related columns"
      ]
    },
    {
      "cell_type": "code",
      "source": [
        "def GetData(path, sims):\n",
        "  IDim_path = path\n",
        "  IDim_responses = []\n",
        "\n",
        "  all_dfs = []\n",
        "\n",
        "  for file in os.listdir(IDim_path):\n",
        "      if file.endswith(\".csv\"):\n",
        "          df = pd.read_csv(os.path.join(IDim_path, file))\n",
        "          df.columns = df.columns.str.strip()\n",
        "          required_columns = [\"happiness\", \"sadness\", \"anger\", \"tenderness\", \"fear\"]\n",
        "          if all(col in df.columns for col in required_columns):\n",
        "              all_dfs.append(df)\n",
        "\n",
        "  mean_happiness_vector = []\n",
        "  mean_sadness_vector = []\n",
        "  mean_anger_vector = []\n",
        "  mean_tenderness_vector = []\n",
        "  mean_fear_vector = []\n",
        "\n",
        "  num_rows = all_dfs[0].shape[0]\n",
        "\n",
        "  for i in range(num_rows):\n",
        "      current_row_happiness = []\n",
        "      current_row_sadness = []\n",
        "      current_row_anger = []\n",
        "      current_row_tenderness = []\n",
        "      current_row_fear = []\n",
        "\n",
        "      # For the current row index 'i', collect values from all DataFrames\n",
        "      for df in all_dfs:\n",
        "          current_row_happiness.append(df.iloc[i]['happiness'])\n",
        "          current_row_sadness.append(df.iloc[i]['sadness'])\n",
        "          current_row_anger.append(df.iloc[i]['anger'])\n",
        "          current_row_tenderness.append(df.iloc[i]['tenderness'])\n",
        "          current_row_fear.append(df.iloc[i]['fear'])\n",
        "\n",
        "      # Calculate the mean for the current row across all files, for each column\n",
        "      mean_happiness_vector.append(np.mean(current_row_happiness))\n",
        "      mean_sadness_vector.append(np.mean(current_row_sadness))\n",
        "      mean_anger_vector.append(np.mean(current_row_anger))\n",
        "      mean_tenderness_vector.append(np.mean(current_row_tenderness))\n",
        "      mean_fear_vector.append(np.mean(current_row_fear))\n",
        "\n",
        "  IDim_responses = {\n",
        "      'happiness_vector': mean_happiness_vector,\n",
        "      'sadness_vector': mean_sadness_vector,\n",
        "      'anger_vector': mean_anger_vector,\n",
        "      'tenderness_vector': mean_tenderness_vector,\n",
        "      'fear_vector': mean_fear_vector\n",
        "  }\n",
        "\n",
        "  print(\"\\n--- Mean Vectors (Mean across CSVs for each row position) ---\")\n",
        "  print(f\"Length of happiness_vector: {len(IDim_responses['happiness_vector'])}\")\n",
        "  print(f\"Length of sadness_vector: {len(IDim_responses['sadness_vector'])}\")\n",
        "  print(f\"Length of anger_vector: {len(IDim_responses['anger_vector'])}\")\n",
        "  print(f\"Length of tiredness_vector: {len(IDim_responses['tenderness_vector'])}\")\n",
        "  print(f\"Length of fear_vector: {len(IDim_responses['fear_vector'])}\")\n",
        "\n",
        "  scaled_sims = sims.detach().clone()\n",
        "\n",
        "  for i in range(sims.shape[1]):\n",
        "    sims_column = sims[:,i]\n",
        "    # Find the min and max values in the current sims tensor\n",
        "    old_min = sims_column.min()\n",
        "    old_max = sims_column.max()\n",
        "\n",
        "    # Define the new desired range\n",
        "    new_min = 1.0\n",
        "    new_max = 9.0\n",
        "\n",
        "    # Apply the min-max scaling formula\n",
        "    scaled_sims[:,i] = ((sims_column - old_min) / (old_max - old_min)) * (new_max - new_min) + new_min\n",
        "\n",
        "  print(f\"Scaled sims shape: {scaled_sims.shape}\")\n",
        "  print(f\"Scaled sims (first 5 rows):\\n{scaled_sims[:10]}\\n\")\n",
        "  print(f\"Scaled sims min value: {scaled_sims.min():.4f}\")\n",
        "  print(f\"Scaled sims max value: {scaled_sims.max():.4f}\\n\")\n",
        "\n",
        "  human_ratings_tensor = torch.tensor([\n",
        "      IDim_responses['happiness_vector'],\n",
        "      IDim_responses['sadness_vector'],\n",
        "      IDim_responses['anger_vector'],\n",
        "      IDim_responses['tenderness_vector'],\n",
        "      IDim_responses['fear_vector']\n",
        "  ], dtype=torch.float32).T # Transpose to get shape (59, 3)\n",
        "\n",
        "  print(f\"Human ratings tensor shape: {human_ratings_tensor.shape}\")\n",
        "  print(f\"Human ratings tensor (first 5 rows):\\n{human_ratings_tensor[:10]}\\n\")\n",
        "\n",
        "  return scaled_sims, human_ratings_tensor\n",
        "\n",
        "Iscaled_sims, Ihuman_ratings_tensor = GetData('/content/Exp1/Data/IDisc', Isims)\n",
        "Pscaled_sims, Phuman_ratings_tensor = GetData('/content/Exp1/Data/PDisc', Psims)"
      ],
      "metadata": {
        "colab": {
          "base_uri": "https://localhost:8080/"
        },
        "id": "YJW9MosN0yHn",
        "outputId": "88b7061e-4575-4ebd-95c9-af12229330c0"
      },
      "id": "YJW9MosN0yHn",
      "execution_count": 43,
      "outputs": [
        {
          "output_type": "stream",
          "name": "stdout",
          "text": [
            "\n",
            "--- Mean Vectors (Mean across CSVs for each row position) ---\n",
            "Length of happiness_vector: 59\n",
            "Length of sadness_vector: 59\n",
            "Length of anger_vector: 59\n",
            "Length of tiredness_vector: 59\n",
            "Length of fear_vector: 59\n",
            "Scaled sims shape: torch.Size([59, 5])\n",
            "Scaled sims (first 5 rows):\n",
            "tensor([[5.0214, 6.6733, 6.8325, 5.7862, 7.7550],\n",
            "        [3.9333, 4.9207, 7.4465, 4.9929, 7.3572],\n",
            "        [3.4530, 4.3210, 6.1135, 4.4504, 6.8921],\n",
            "        [3.3673, 3.4643, 4.7160, 4.4292, 5.9314],\n",
            "        [4.9545, 4.8828, 5.6719, 5.3675, 6.6845],\n",
            "        [3.4116, 3.7599, 5.4187, 4.8446, 5.3570],\n",
            "        [3.1252, 4.5116, 7.3265, 4.9726, 6.9538],\n",
            "        [4.7480, 6.7702, 8.3918, 6.6676, 8.6063],\n",
            "        [3.8313, 4.5940, 5.1478, 5.3246, 5.6200],\n",
            "        [4.4003, 6.8146, 6.6961, 6.2695, 7.7511]], grad_fn=<SliceBackward0>)\n",
            "\n",
            "Scaled sims min value: 1.0000\n",
            "Scaled sims max value: 9.0000\n",
            "\n",
            "Human ratings tensor shape: torch.Size([59, 5])\n",
            "Human ratings tensor (first 5 rows):\n",
            "tensor([[1.8202, 3.3418, 2.7948, 1.9789, 4.1430],\n",
            "        [1.9091, 3.4459, 2.9059, 2.3785, 2.8558],\n",
            "        [2.0644, 3.1847, 2.4182, 2.6371, 2.3356],\n",
            "        [2.5321, 3.1900, 2.1509, 3.0583, 2.0938],\n",
            "        [1.8391, 2.4733, 4.0144, 1.9902, 3.4942],\n",
            "        [2.0029, 2.3036, 3.7795, 2.0350, 2.3418],\n",
            "        [2.2976, 2.7226, 2.6512, 2.5088, 2.3108],\n",
            "        [2.0591, 2.9012, 3.0382, 2.4589, 2.2856],\n",
            "        [2.0464, 2.9626, 3.0220, 2.2880, 2.3824],\n",
            "        [1.9356, 3.4186, 2.6233, 2.5048, 2.4073]])\n",
            "\n",
            "\n",
            "--- Mean Vectors (Mean across CSVs for each row position) ---\n",
            "Length of happiness_vector: 59\n",
            "Length of sadness_vector: 59\n",
            "Length of anger_vector: 59\n",
            "Length of tiredness_vector: 59\n",
            "Length of fear_vector: 59\n",
            "Scaled sims shape: torch.Size([59, 5])\n",
            "Scaled sims (first 5 rows):\n",
            "tensor([[5.0214, 6.6733, 6.8325, 5.7862, 7.7550],\n",
            "        [3.9333, 4.9207, 7.4465, 4.9929, 7.3572],\n",
            "        [3.4530, 4.3210, 6.1135, 4.4504, 6.8921],\n",
            "        [3.3673, 3.4643, 4.7160, 4.4292, 5.9314],\n",
            "        [4.9545, 4.8828, 5.6719, 5.3675, 6.6845],\n",
            "        [3.4116, 3.7599, 5.4187, 4.8446, 5.3570],\n",
            "        [3.1252, 4.5116, 7.3265, 4.9726, 6.9538],\n",
            "        [4.7480, 6.7702, 8.3918, 6.6676, 8.6063],\n",
            "        [3.8313, 4.5940, 5.1478, 5.3246, 5.6200],\n",
            "        [4.4003, 6.8146, 6.6961, 6.2695, 7.7511]], grad_fn=<SliceBackward0>)\n",
            "\n",
            "Scaled sims min value: 1.0000\n",
            "Scaled sims max value: 9.0000\n",
            "\n",
            "Human ratings tensor shape: torch.Size([59, 5])\n",
            "Human ratings tensor (first 5 rows):\n",
            "tensor([[1.5362, 4.4191, 5.1551, 2.0345, 5.6468],\n",
            "        [1.7403, 4.8642, 4.2637, 2.5285, 3.9835],\n",
            "        [2.0486, 5.5669, 3.0558, 2.9492, 2.8565],\n",
            "        [2.4389, 4.8343, 2.1514, 3.5546, 3.0082],\n",
            "        [1.5691, 3.6631, 5.0478, 1.9322, 4.7326],\n",
            "        [2.3355, 3.7606, 4.7297, 2.1892, 3.5060],\n",
            "        [2.4634, 4.8611, 3.0175, 2.7494, 3.1406],\n",
            "        [2.9737, 4.3386, 2.5760, 3.3182, 2.6666],\n",
            "        [2.2008, 5.0631, 2.9572, 2.8162, 3.2191],\n",
            "        [2.6725, 4.5591, 2.6538, 3.1588, 2.8814]])\n",
            "\n"
          ]
        }
      ]
    },
    {
      "cell_type": "code",
      "source": [
        "#Extracting data from aggregate_data.csv to get answers for purely Discrete\n",
        "df = pd.read_csv('/content/Exp1/Data/aggregate_data.csv')\n",
        "\n",
        "# Sort by StimNo to match audio alignment\n",
        "df = df.sort_values(\"StimNo\").reset_index(drop=True)\n",
        "\n",
        "# Extract the mean responses\n",
        "Dim_responses = {\n",
        "    'happiness_vector': df['happiness'].tolist(),\n",
        "    'sadness_vector': df['sadness'].tolist(),\n",
        "    'anger_vector': df['anger'].tolist(),\n",
        "    'tenderness_vector': df['tenderness'].tolist(),\n",
        "    'fear_vector': df['fear'].tolist()\n",
        "}\n",
        "\n",
        "print(\"\\n--- Mean Vectors (from aggregate_data.csv) ---\")\n",
        "print(f\"Length of happiness_vector: {len(Dim_responses['happiness_vector'])}\")\n",
        "print(f\"Length of sadness_vector: {len(Dim_responses['sadness_vector'])}\")\n",
        "print(f\"Length of anger_vector: {len(Dim_responses['anger_vector'])}\")\n",
        "print(f\"Length of tenderness_vector_vector: {len(Dim_responses['tenderness_vector'])}\")\n",
        "print(f\"Length of fear_vector: {len(Dim_responses['fear_vector'])}\")\n",
        "\n",
        "scaled_sims = sims.detach().clone()\n",
        "\n",
        "for i in range(sims.shape[1]):\n",
        "    sims_column = sims[:,i]\n",
        "    # Find the min and max values in the current sims tensor\n",
        "    old_min = sims_column.min()\n",
        "    old_max = sims_column.max()\n",
        "\n",
        "    # Define the new desired range\n",
        "    new_min = 1.0\n",
        "    new_max = 9.0\n",
        "\n",
        "    # Apply the min-max scaling formula\n",
        "    scaled_sims[:,i] = ((sims_column - old_min) / (old_max - old_min)) * (new_max - new_min) + new_min\n",
        "\n",
        "print(f\"Scaled sims shape: {scaled_sims.shape}\")\n",
        "print(f\"Scaled sims (first 5 rows):\\n{scaled_sims[:10]}\\n\")\n",
        "print(f\"Scaled sims min value: {scaled_sims.min():.4f}\")\n",
        "print(f\"Scaled sims max value: {scaled_sims.max():.4f}\\n\")\n",
        "\n",
        "human_ratings_tensor = torch.tensor([\n",
        "    Dim_responses['happiness_vector'],\n",
        "    Dim_responses['sadness_vector'],\n",
        "    Dim_responses['anger_vector'],\n",
        "    Dim_responses['tenderness_vector'],\n",
        "    Dim_responses['fear_vector']\n",
        "], dtype=torch.float32).T # Transpose to get shape (59, 5)\n",
        "\n",
        "print(f\"Human ratings tensor shape: {human_ratings_tensor.shape}\")\n",
        "print(f\"Human ratings tensor (first 5 rows):\\n{human_ratings_tensor[:10]}\\n\")"
      ],
      "metadata": {
        "colab": {
          "base_uri": "https://localhost:8080/"
        },
        "id": "kSFgw0u_kDUy",
        "outputId": "631e3a07-669b-463f-d5b5-3468a415cc55"
      },
      "id": "kSFgw0u_kDUy",
      "execution_count": 44,
      "outputs": [
        {
          "output_type": "stream",
          "name": "stdout",
          "text": [
            "\n",
            "--- Mean Vectors (from aggregate_data.csv) ---\n",
            "Length of happiness_vector: 59\n",
            "Length of sadness_vector: 59\n",
            "Length of anger_vector: 59\n",
            "Length of tenderness_vector_vector: 59\n",
            "Length of fear_vector: 59\n",
            "Scaled sims shape: torch.Size([59, 5])\n",
            "Scaled sims (first 5 rows):\n",
            "tensor([[5.0214, 6.6733, 6.8325, 5.7862, 7.7550],\n",
            "        [3.9333, 4.9207, 7.4465, 4.9929, 7.3572],\n",
            "        [3.4530, 4.3210, 6.1135, 4.4504, 6.8921],\n",
            "        [3.3673, 3.4643, 4.7160, 4.4292, 5.9314],\n",
            "        [4.9545, 4.8828, 5.6719, 5.3675, 6.6845],\n",
            "        [3.4116, 3.7599, 5.4187, 4.8446, 5.3570],\n",
            "        [3.1252, 4.5116, 7.3265, 4.9726, 6.9538],\n",
            "        [4.7480, 6.7702, 8.3918, 6.6676, 8.6063],\n",
            "        [3.8313, 4.5940, 5.1478, 5.3246, 5.6200],\n",
            "        [4.4003, 6.8146, 6.6961, 6.2695, 7.7511]], grad_fn=<SliceBackward0>)\n",
            "\n",
            "Scaled sims min value: 1.0000\n",
            "Scaled sims max value: 9.0000\n",
            "\n",
            "Human ratings tensor shape: torch.Size([59, 5])\n",
            "Human ratings tensor (first 5 rows):\n",
            "tensor([[1.6792, 3.8763, 3.9660, 2.0065, 4.8892],\n",
            "        [1.8253, 4.1496, 3.5796, 2.4529, 3.4153],\n",
            "        [2.0566, 4.3667, 2.7346, 2.7920, 2.5940],\n",
            "        [2.4859, 4.0059, 2.1511, 3.3046, 2.5475],\n",
            "        [1.7051, 3.0637, 4.5272, 1.9614, 4.1087],\n",
            "        [2.1679, 3.0266, 4.2510, 2.1115, 2.9195],\n",
            "        [2.3798, 3.7837, 2.8330, 2.6282, 2.7225],\n",
            "        [2.5129, 3.6144, 2.8089, 2.8853, 2.4747],\n",
            "        [2.1230, 4.0048, 2.9898, 2.5501, 2.7976],\n",
            "        [2.3012, 3.9845, 2.6385, 2.8293, 2.6425]])\n",
            "\n"
          ]
        }
      ]
    },
    {
      "cell_type": "markdown",
      "id": "3cd6f9d9",
      "metadata": {
        "id": "3cd6f9d9"
      },
      "source": [
        "# Evaluate"
      ]
    },
    {
      "cell_type": "code",
      "source": [
        "def format4(x):\n",
        "    return \"{:.4f}\".format(float(x))\n",
        "\n",
        "def format2(x):\n",
        "    return \"{:.2f}\".format(float(x))\n",
        "\n",
        "def format_tuple(t):\n",
        "    return \"(\" + \", \".join(format4(x) for x in t) + \")\"\n",
        "\n",
        "def DisplayStats(Title, scaled_sims, human_ratings_tensor):\n",
        "  # Comparison Method 1: Mean Absolute Error (MAE)\n",
        "  # MAE measures the average magnitude of the errors in a set of predictions, without considering their direction.\n",
        "  mae = torch.mean(torch.abs(scaled_sims - human_ratings_tensor))\n",
        "\n",
        "\n",
        "  # Comparison Method 2: Pearson Correlation Coefficient (per column)\n",
        "  # Pearson correlation measures the linear relationship between two sets of data.\n",
        "  # We'll calculate it for each of the  columns.\n",
        "  correlation_happiness, _ = pearsonr(scaled_sims[:, 0].detach().numpy(), human_ratings_tensor[:, 0].numpy())\n",
        "  correlation_sadness, _ = pearsonr(scaled_sims[:, 1].detach().numpy(), human_ratings_tensor[:, 1].numpy())\n",
        "  correlation_anger, _ = pearsonr(scaled_sims[:, 2].detach().numpy(), human_ratings_tensor[:, 2].numpy())\n",
        "  correlation_tenderness, _ = pearsonr(scaled_sims[:, 3].detach().numpy(), human_ratings_tensor[:, 3].numpy())\n",
        "  correlation_fear, _ = pearsonr(scaled_sims[:, 4].detach().numpy(), human_ratings_tensor[:, 4].numpy())\n",
        "\n",
        "  correlation_scores = [correlation_happiness, correlation_sadness, correlation_anger, correlation_tenderness, correlation_fear]\n",
        "  # Calculate the average correlation\n",
        "  average_correlation = np.mean(correlation_scores)\n",
        "\n",
        "\n",
        "  # Comparison Method 3: Mean Absolute Percentage Error (MAPE)\n",
        "  # MAPE measures the accuracy of a forecasting method in terms of percentage.\n",
        "  # Formula: MAPE = (1/n) * sum(|(Actual - Forecast) / Actual|) * 100%\n",
        "\n",
        "  # Calculate the absolute percentage error for each element\n",
        "  # Since human responses are between 1 and 9, division by zero is not a concern.\n",
        "  absolute_percentage_error = torch.abs((human_ratings_tensor - scaled_sims) / human_ratings_tensor) * 100\n",
        "  # Calculate the mean of these percentage errors\n",
        "  mape = torch.mean(absolute_percentage_error)\n",
        "\n",
        "\n",
        "  # Comparison Method 4: Root Mean Squared Error (RMSE)\n",
        "  # RMSE measures the square root of the average of the squared differences between predicted and actual values.\n",
        "  # It gives a relatively high weight to large errors.\n",
        "  # Formula: RMSE = sqrt(mean((Actual - Forecast)^2))\n",
        "  # Calculate the squared differences\n",
        "  squared_differences = (human_ratings_tensor - scaled_sims)**2\n",
        "  # Calculate the mean of the squared differences (Mean Squared Error - MSE)\n",
        "  mse = torch.mean(squared_differences)\n",
        "  # Calculate the square root to get RMSE\n",
        "  rmse = torch.sqrt(mse)\n",
        "\n",
        "  # Comparison Method 5: R-squared values (Coefficient of Determination)\n",
        "  # R² measures how well the predicted values approximate the actual values.\n",
        "  # It represents the proportion of variance in the dependent variable\n",
        "  # that is predictable from the independent variable(s).\n",
        "  #\n",
        "  # Formula: R² = 1 - (Sum of Squared Residuals / Total Sum of Squares)\n",
        "  #\n",
        "  # Interpretation:\n",
        "  # - R² = 1.0: Perfect prediction\n",
        "  # - R² = 0.0: Predictions are as good as the mean of the actual values\n",
        "  # - R² < 0.0: Predictions are worse than just using the mean\n",
        "  r2_happiness = r2_score(human_ratings_tensor[:, 0].numpy(), scaled_sims[:, 0].detach().numpy())\n",
        "  r2_sadness = r2_score(human_ratings_tensor[:, 1].numpy(), scaled_sims[:, 1].detach().numpy())\n",
        "  r2_anger = r2_score(human_ratings_tensor[:, 2].numpy(), scaled_sims[:, 2].detach().numpy())\n",
        "  r2_tenderness = r2_score(human_ratings_tensor[:, 3].numpy(), scaled_sims[:, 3].detach().numpy())\n",
        "  r2_fear = r2_score(human_ratings_tensor[:, 4].numpy(), scaled_sims[:, 4].detach().numpy())\n",
        "\n",
        "  r2_scores = [r2_happiness, r2_sadness, r2_anger, r2_tenderness, r2_fear]\n",
        "  # Calculate the average R²\n",
        "  average_r2 = np.mean(r2_scores)\n",
        "\n",
        "  Disc_rows = [\n",
        "    (\"MAE\", format4(mae)),\n",
        "    (\"Pearson Correlation Coefficient (Happiness, Sadness, Anger, Tenderness, Fear)\",\n",
        "    format_tuple(correlation_scores)),\n",
        "    (\"Average Correlation\", format4(average_correlation)),\n",
        "    (\"MAPE\", f\"{format2(mape)}%\"),\n",
        "    (\"RMSE\", format4(rmse)),\n",
        "    (\"R-Squared Scores (Happiness, Sadness, Anger, Tenderness, Fear)\",\n",
        "    format_tuple(r2_scores)),\n",
        "    (\"R-Squared Average\", format4(average_r2)),\n",
        "  ]\n",
        "  Disc_df = pd.DataFrame(Disc_rows, columns=[Title, \"Statistics\"])\n",
        "  # Display with column borders, no row index\n",
        "  style = [{\"selector\": \"td, th\", \"props\": [(\"border\", \"1px solid gray\")]}]\n",
        "  display(Disc_df.style.hide(axis=\"index\").set_table_styles(style))\n",
        "\n",
        "\n",
        "DisplayStats(\"Discrete Induced (IDisc)\", Iscaled_sims, Ihuman_ratings_tensor)\n",
        "print(\"\\n\" + \"-\"*80 + \"\\n\")\n",
        "DisplayStats(\"Discrete Perceived (PDisc)\", Pscaled_sims, Phuman_ratings_tensor)\n",
        "print(\"\\n\" + \"-\"*80 + \"\\n\")\n",
        "DisplayStats(\"Discrete\", scaled_sims, human_ratings_tensor)"
      ],
      "metadata": {
        "colab": {
          "base_uri": "https://localhost:8080/",
          "height": 895
        },
        "id": "RLar2kmjwy40",
        "outputId": "2fffcc9f-51d2-48e4-ce81-fab600a4bc5d"
      },
      "id": "RLar2kmjwy40",
      "execution_count": 45,
      "outputs": [
        {
          "output_type": "display_data",
          "data": {
            "text/plain": [
              "<pandas.io.formats.style.Styler at 0x7cd9c8f94190>"
            ],
            "text/html": [
              "<style type=\"text/css\">\n",
              "#T_7c410 td {\n",
              "  border: 1px solid gray;\n",
              "}\n",
              "#T_7c410  th {\n",
              "  border: 1px solid gray;\n",
              "}\n",
              "</style>\n",
              "<table id=\"T_7c410\" class=\"dataframe\">\n",
              "  <thead>\n",
              "    <tr>\n",
              "      <th id=\"T_7c410_level0_col0\" class=\"col_heading level0 col0\" >Discrete Induced (IDisc)</th>\n",
              "      <th id=\"T_7c410_level0_col1\" class=\"col_heading level0 col1\" >Statistics</th>\n",
              "    </tr>\n",
              "  </thead>\n",
              "  <tbody>\n",
              "    <tr>\n",
              "      <td id=\"T_7c410_row0_col0\" class=\"data row0 col0\" >MAE</td>\n",
              "      <td id=\"T_7c410_row0_col1\" class=\"data row0 col1\" >2.3119</td>\n",
              "    </tr>\n",
              "    <tr>\n",
              "      <td id=\"T_7c410_row1_col0\" class=\"data row1 col0\" >Pearson Correlation Coefficient (Happiness, Sadness, Anger, Tenderness, Fear)</td>\n",
              "      <td id=\"T_7c410_row1_col1\" class=\"data row1 col1\" >(0.4121, -0.1928, 0.3405, 0.2274, 0.2192)</td>\n",
              "    </tr>\n",
              "    <tr>\n",
              "      <td id=\"T_7c410_row2_col0\" class=\"data row2 col0\" >Average Correlation</td>\n",
              "      <td id=\"T_7c410_row2_col1\" class=\"data row2 col1\" >0.2013</td>\n",
              "    </tr>\n",
              "    <tr>\n",
              "      <td id=\"T_7c410_row3_col0\" class=\"data row3 col0\" >MAPE</td>\n",
              "      <td id=\"T_7c410_row3_col1\" class=\"data row3 col1\" >99.56%</td>\n",
              "    </tr>\n",
              "    <tr>\n",
              "      <td id=\"T_7c410_row4_col0\" class=\"data row4 col0\" >RMSE</td>\n",
              "      <td id=\"T_7c410_row4_col1\" class=\"data row4 col1\" >2.8144</td>\n",
              "    </tr>\n",
              "    <tr>\n",
              "      <td id=\"T_7c410_row5_col0\" class=\"data row5 col0\" >R-Squared Scores (Happiness, Sadness, Anger, Tenderness, Fear)</td>\n",
              "      <td id=\"T_7c410_row5_col1\" class=\"data row5 col1\" >(-4.2280, -26.9002, -5.9307, -13.1239, -14.3382)</td>\n",
              "    </tr>\n",
              "    <tr>\n",
              "      <td id=\"T_7c410_row6_col0\" class=\"data row6 col0\" >R-Squared Average</td>\n",
              "      <td id=\"T_7c410_row6_col1\" class=\"data row6 col1\" >-12.9042</td>\n",
              "    </tr>\n",
              "  </tbody>\n",
              "</table>\n"
            ]
          },
          "metadata": {}
        },
        {
          "output_type": "stream",
          "name": "stdout",
          "text": [
            "\n",
            "--------------------------------------------------------------------------------\n",
            "\n"
          ]
        },
        {
          "output_type": "display_data",
          "data": {
            "text/plain": [
              "<pandas.io.formats.style.Styler at 0x7cd9c894f890>"
            ],
            "text/html": [
              "<style type=\"text/css\">\n",
              "#T_19287 td {\n",
              "  border: 1px solid gray;\n",
              "}\n",
              "#T_19287  th {\n",
              "  border: 1px solid gray;\n",
              "}\n",
              "</style>\n",
              "<table id=\"T_19287\" class=\"dataframe\">\n",
              "  <thead>\n",
              "    <tr>\n",
              "      <th id=\"T_19287_level0_col0\" class=\"col_heading level0 col0\" >Discrete Perceived (PDisc)</th>\n",
              "      <th id=\"T_19287_level0_col1\" class=\"col_heading level0 col1\" >Statistics</th>\n",
              "    </tr>\n",
              "  </thead>\n",
              "  <tbody>\n",
              "    <tr>\n",
              "      <td id=\"T_19287_row0_col0\" class=\"data row0 col0\" >MAE</td>\n",
              "      <td id=\"T_19287_row0_col1\" class=\"data row0 col1\" >1.9962</td>\n",
              "    </tr>\n",
              "    <tr>\n",
              "      <td id=\"T_19287_row1_col0\" class=\"data row1 col0\" >Pearson Correlation Coefficient (Happiness, Sadness, Anger, Tenderness, Fear)</td>\n",
              "      <td id=\"T_19287_row1_col1\" class=\"data row1 col1\" >(0.3358, -0.2210, 0.3994, 0.3066, 0.1400)</td>\n",
              "    </tr>\n",
              "    <tr>\n",
              "      <td id=\"T_19287_row2_col0\" class=\"data row2 col0\" >Average Correlation</td>\n",
              "      <td id=\"T_19287_row2_col1\" class=\"data row2 col1\" >0.1922</td>\n",
              "    </tr>\n",
              "    <tr>\n",
              "      <td id=\"T_19287_row3_col0\" class=\"data row3 col0\" >MAPE</td>\n",
              "      <td id=\"T_19287_row3_col1\" class=\"data row3 col1\" >75.05%</td>\n",
              "    </tr>\n",
              "    <tr>\n",
              "      <td id=\"T_19287_row4_col0\" class=\"data row4 col0\" >RMSE</td>\n",
              "      <td id=\"T_19287_row4_col1\" class=\"data row4 col1\" >2.4813</td>\n",
              "    </tr>\n",
              "    <tr>\n",
              "      <td id=\"T_19287_row5_col0\" class=\"data row5 col0\" >R-Squared Scores (Happiness, Sadness, Anger, Tenderness, Fear)</td>\n",
              "      <td id=\"T_19287_row5_col1\" class=\"data row5 col1\" >(-2.2537, -6.3814, -3.8064, -4.6058, -4.3068)</td>\n",
              "    </tr>\n",
              "    <tr>\n",
              "      <td id=\"T_19287_row6_col0\" class=\"data row6 col0\" >R-Squared Average</td>\n",
              "      <td id=\"T_19287_row6_col1\" class=\"data row6 col1\" >-4.2708</td>\n",
              "    </tr>\n",
              "  </tbody>\n",
              "</table>\n"
            ]
          },
          "metadata": {}
        },
        {
          "output_type": "stream",
          "name": "stdout",
          "text": [
            "\n",
            "--------------------------------------------------------------------------------\n",
            "\n"
          ]
        },
        {
          "output_type": "display_data",
          "data": {
            "text/plain": [
              "<pandas.io.formats.style.Styler at 0x7cda05b72450>"
            ],
            "text/html": [
              "<style type=\"text/css\">\n",
              "#T_09808 td {\n",
              "  border: 1px solid gray;\n",
              "}\n",
              "#T_09808  th {\n",
              "  border: 1px solid gray;\n",
              "}\n",
              "</style>\n",
              "<table id=\"T_09808\" class=\"dataframe\">\n",
              "  <thead>\n",
              "    <tr>\n",
              "      <th id=\"T_09808_level0_col0\" class=\"col_heading level0 col0\" >Discrete</th>\n",
              "      <th id=\"T_09808_level0_col1\" class=\"col_heading level0 col1\" >Statistics</th>\n",
              "    </tr>\n",
              "  </thead>\n",
              "  <tbody>\n",
              "    <tr>\n",
              "      <td id=\"T_09808_row0_col0\" class=\"data row0 col0\" >MAE</td>\n",
              "      <td id=\"T_09808_row0_col1\" class=\"data row0 col1\" >2.1234</td>\n",
              "    </tr>\n",
              "    <tr>\n",
              "      <td id=\"T_09808_row1_col0\" class=\"data row1 col0\" >Pearson Correlation Coefficient (Happiness, Sadness, Anger, Tenderness, Fear)</td>\n",
              "      <td id=\"T_09808_row1_col1\" class=\"data row1 col1\" >(0.3757, -0.2183, 0.3963, 0.2753, 0.1754)</td>\n",
              "    </tr>\n",
              "    <tr>\n",
              "      <td id=\"T_09808_row2_col0\" class=\"data row2 col0\" >Average Correlation</td>\n",
              "      <td id=\"T_09808_row2_col1\" class=\"data row2 col1\" >0.2009</td>\n",
              "    </tr>\n",
              "    <tr>\n",
              "      <td id=\"T_09808_row3_col0\" class=\"data row3 col0\" >MAPE</td>\n",
              "      <td id=\"T_09808_row3_col1\" class=\"data row3 col1\" >84.42%</td>\n",
              "    </tr>\n",
              "    <tr>\n",
              "      <td id=\"T_09808_row4_col0\" class=\"data row4 col0\" >RMSE</td>\n",
              "      <td id=\"T_09808_row4_col1\" class=\"data row4 col1\" >2.6184</td>\n",
              "    </tr>\n",
              "    <tr>\n",
              "      <td id=\"T_09808_row5_col0\" class=\"data row5 col0\" >R-Squared Scores (Happiness, Sadness, Anger, Tenderness, Fear)</td>\n",
              "      <td id=\"T_09808_row5_col1\" class=\"data row5 col1\" >(-3.1534, -12.6727, -5.4402, -7.8339, -7.9167)</td>\n",
              "    </tr>\n",
              "    <tr>\n",
              "      <td id=\"T_09808_row6_col0\" class=\"data row6 col0\" >R-Squared Average</td>\n",
              "      <td id=\"T_09808_row6_col1\" class=\"data row6 col1\" >-7.4034</td>\n",
              "    </tr>\n",
              "  </tbody>\n",
              "</table>\n"
            ]
          },
          "metadata": {}
        }
      ]
    }
  ],
  "metadata": {
    "kernelspec": {
      "display_name": "Python 3",
      "name": "python3"
    },
    "language_info": {
      "codemirror_mode": {
        "name": "ipython",
        "version": 3
      },
      "file_extension": ".py",
      "mimetype": "text/x-python",
      "name": "python",
      "nbconvert_exporter": "python",
      "pygments_lexer": "ipython3",
      "version": "3.12.10"
    },
    "colab": {
      "provenance": [],
      "machine_shape": "hm"
    }
  },
  "nbformat": 4,
  "nbformat_minor": 5
}